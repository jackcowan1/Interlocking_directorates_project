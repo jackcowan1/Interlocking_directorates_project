{
  "nbformat": 4,
  "nbformat_minor": 0,
  "metadata": {
    "colab": {
      "provenance": [],
      "authorship_tag": "ABX9TyORyFKyjjoDc3zaDAP40wkj",
      "include_colab_link": true
    },
    "kernelspec": {
      "name": "python3",
      "display_name": "Python 3"
    },
    "language_info": {
      "name": "python"
    }
  },
  "cells": [
    {
      "cell_type": "markdown",
      "metadata": {
        "id": "view-in-github",
        "colab_type": "text"
      },
      "source": [
        "<a href=\"https://colab.research.google.com/github/jackcowan1/Interlocking_directorates_project/blob/main/Initial_test.ipynb\" target=\"_parent\"><img src=\"https://colab.research.google.com/assets/colab-badge.svg\" alt=\"Open In Colab\"/></a>"
      ]
    },
    {
      "cell_type": "code",
      "execution_count": null,
      "metadata": {
        "id": "sokMJURqh3Lc"
      },
      "outputs": [],
      "source": [
        "!pip install yfinance\n",
        "import yfinance as yf\n",
        "import pandas as pd\n",
        "import numpy as np"
      ]
    },
    {
      "cell_type": "code",
      "source": [
        "ticker = 'AAPL' # @param {type:\"string\"}"
      ],
      "metadata": {
        "id": "hGduyjrdiNo5"
      },
      "execution_count": 41,
      "outputs": []
    },
    {
      "cell_type": "code",
      "source": [
        "stock = yf.Ticker(ticker)\n",
        "hist = stock.history(interval='1d',period='1y')"
      ],
      "metadata": {
        "id": "qd21X3Drithy"
      },
      "execution_count": 42,
      "outputs": []
    },
    {
      "cell_type": "code",
      "source": [
        "def get_returns(asset):\n",
        "  hist = asset.history(interval='1d',period='1y')\n",
        "  last_price = hist.iloc[0]['Close']\n",
        "  returns = np.array([])\n",
        "  for i in range(len(hist)-1):\n",
        "    first_price = last_price\n",
        "    last_price = hist.iloc[i+1]['Close']\n",
        "    returns = np.append(returns, 100*(last_price - first_price)/ first_price)\n",
        "  return returns"
      ],
      "metadata": {
        "id": "3nowxCSLpA57"
      },
      "execution_count": 77,
      "outputs": []
    },
    {
      "cell_type": "code",
      "source": [
        "def isolate_returns(asset):\n",
        "  sector = asset.info['sector']\n",
        "  sector_sym = {\"Communication Services\" : \"XLC\", \"Consumer Discretionary\" : \"XLY\", \"Consumer Staples\": \"XLP\", \"Energy\": \"XLE\", \"Financials\": \"XLF\",\n",
        "                \"Health Care\" : \"XLV\", \"Industrials\" : \"XLI\", \"Materials\" : \"XLB\", \"Real Estate\" : \"XLRE\", \"Technology\" : \"XLK\", \"Utilities\" : \"XLU\"}\n",
        "  sector_tick = yf.Ticker(sector_sym[sector])\n",
        "  return get_returns(asset) - get_returns(sector_tick)"
      ],
      "metadata": {
        "id": "y2Zh3M3rmwtm"
      },
      "execution_count": 81,
      "outputs": []
    },
    {
      "cell_type": "code",
      "source": [
        "print(isolate_returns(stock))"
      ],
      "metadata": {
        "colab": {
          "base_uri": "https://localhost:8080/"
        },
        "id": "M466rVLhi4Ky",
        "outputId": "6aea3083-4f2f-40a2-8ca9-8d2a9f82aee2"
      },
      "execution_count": 86,
      "outputs": [
        {
          "output_type": "stream",
          "name": "stdout",
          "text": [
            "[-1.30483279 -0.09312456  2.24729077 -0.55948556  0.59189141  0.40924178\n",
            " -0.53973809  1.69282614  2.15369689 -0.46474555  0.3808742  -0.20436554\n",
            "  0.92104143  0.52640936 -2.32172744 -2.30613442 -1.08816627 -0.02291333\n",
            " -0.79388142 -0.1265115   0.15640026  0.44086822  1.91645375  0.50725817\n",
            " -0.15259443  0.2555975  -0.41156508 -0.13566879  0.09349008  0.36486959\n",
            " -0.38453715  0.03042118  0.09697347  0.02195415  0.26350774 -1.90809081\n",
            "  3.20671827 -0.22139928 -0.91746931 -0.27624483 -1.29979796 -2.02103402\n",
            " -1.27933561 -0.54177085 -0.7181482   0.67989225  0.21563851 -0.09233096\n",
            " -0.02517071  0.53664263  1.16812164  0.26449087 -1.09299552 -0.47005313\n",
            " -0.29326441 -1.37891888 -0.48570619 -1.13577805 -0.16147945  0.04942364\n",
            "  0.24309931  0.86392972 -0.39592145 -0.87181769 -0.42250824  0.27144294\n",
            " -0.54572426 -0.50287067 -0.71134069 -0.94501658 -0.13423639 -0.25752099\n",
            " -0.2043734   0.72503281  0.14447619 -0.38425915 -0.44080441 -1.45614389\n",
            "  0.21363785  0.38331707 -2.79222188  0.7718123   0.88159664  0.7498757\n",
            " -0.75362719 -0.1725193   0.37840412 -0.8031892   0.72754895  0.42350553\n",
            "  0.75226654  1.21140199 -0.78357985  0.07351393  1.05096147 -0.26153966\n",
            " -0.11679343  0.94971725 -0.0985183  -0.4925049  -1.56354405  0.97557467\n",
            "  3.27238169 -0.57257832 -0.57481312 -0.56004629 -0.14112631  0.70652563\n",
            "  0.1496647  -0.84964347  0.92319009  0.69207868  0.49542106 -0.29349165\n",
            "  0.4361153  -1.32904732 -0.01791317  0.2883455  -0.12551836 -0.69210256\n",
            " -0.81937543  1.35871229  1.37584896 -0.20684857  0.01073417 -0.05788826\n",
            "  0.37043567  0.78158172 -0.89861765  0.20485292 -0.93579779 -0.40619276\n",
            "  1.27873628  0.38621845  0.08488869 -0.9295772   0.56952044 -0.45514604\n",
            "  0.07149465 -0.11596733 -0.172938    0.13374851  0.92908899  0.22554538\n",
            "  0.0114314  -0.01709663 -1.54357766  0.18055935  0.13381879  1.55005129\n",
            "  0.34387234 -0.35117971  0.44215272  0.98415001  0.07212788 -0.6542912\n",
            "  0.62774801  1.19089321 -1.49253208  0.71782982 -0.331608   -0.11270025\n",
            "  0.31513424  0.19600884 -0.51241292  2.18489003  0.01255854 -0.22970925\n",
            " -0.17792085  0.55734941 -0.4094367  -1.11782146 -0.10512642 -0.9720569\n",
            " -0.68015855  0.10727685 -0.73858475 -0.03875063  0.89656121 -3.16720219\n",
            " -1.4291882   0.53190766  0.80483731  0.58570076 -0.09492162 -0.18192809\n",
            " -0.18191635  0.71923819  0.46340234 -0.28040068 -0.61069804 -0.86840866\n",
            " -0.68221757 -0.16775233  0.23860473  0.72448332  0.91214543  0.83653514\n",
            "  0.91391835 -0.03783671 -0.46495388  0.57421627  0.00405031  0.72090912\n",
            " -0.56565165  0.02961006  0.51766203 -0.15297824 -1.34841716 -0.49654069\n",
            " -0.23497158 -0.8990012   0.22624512  0.45207454 -1.26732961  0.95681352\n",
            "  0.98680986 -0.56508954  0.24599733 -0.69350906  1.79934351 -0.3684272\n",
            " -0.01063763  0.08618023 -0.59579144  0.92511215 -0.32465967 -3.4419332\n",
            " -2.00581026  1.30021621  0.39625964 -0.13536701  0.77124164 -0.65445297\n",
            " -0.13513111  0.45710008 -0.50537819  0.12983044 -1.13587202  0.90351371\n",
            "  0.39045773 -0.3122752   0.24640276  0.06664446  0.17620387  1.16218546\n",
            " -0.36900551  0.53892789 -0.23088036 -2.52182222]\n"
          ]
        }
      ]
    }
  ]
}